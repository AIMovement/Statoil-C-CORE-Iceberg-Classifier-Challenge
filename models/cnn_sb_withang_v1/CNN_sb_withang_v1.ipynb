{
 "cells": [
  {
   "cell_type": "markdown",
   "metadata": {},
   "source": [
    "# Import packages"
   ]
  },
  {
   "cell_type": "code",
   "execution_count": 1,
   "metadata": {},
   "outputs": [],
   "source": [
    "import pandas as pd\n",
    "import numpy as np\n",
    "import matplotlib.pyplot as plt\n",
    "import matplotlib.cm as cm\n",
    "import seaborn as sns\n",
    "import json\n",
    "%matplotlib inline"
   ]
  },
  {
   "cell_type": "code",
   "execution_count": 2,
   "metadata": {},
   "outputs": [],
   "source": [
    "from sklearn.model_selection import train_test_split"
   ]
  },
  {
   "cell_type": "code",
   "execution_count": 3,
   "metadata": {},
   "outputs": [
    {
     "name": "stderr",
     "output_type": "stream",
     "text": [
      "Using TensorFlow backend.\n"
     ]
    }
   ],
   "source": [
    "from keras.models import Model, load_model\n",
    "from keras.layers import Dense, Dropout, Flatten, Conv2D, MaxPooling2D, Activation, concatenate, Input\n",
    "from keras.optimizers import SGD\n",
    "from keras.utils.np_utils import to_categorical"
   ]
  },
  {
   "cell_type": "markdown",
   "metadata": {},
   "source": [
    "# Functions"
   ]
  },
  {
   "cell_type": "code",
   "execution_count": 4,
   "metadata": {},
   "outputs": [],
   "source": [
    "def get_images(df):\n",
    "    images = []\n",
    "    \n",
    "    for idx, row in df.iterrows():\n",
    "        band_1 = np.array(row['band_1']).reshape(75, 75)\n",
    "        band_2 = np.array(row['band_2']).reshape(75, 75)\n",
    "\n",
    "        # Pre-Processing:\n",
    "        #  - (Re)scaling\n",
    "        #  - Standardization\n",
    "        #  - Stretching\n",
    "        #  - ...\n",
    "        band_1 /= 255\n",
    "        band_2 /= 255\n",
    "        \n",
    "\n",
    "        bands = np.dstack((band_1, band_2))\n",
    "        images.append(bands)\n",
    "        \n",
    "    return np.array(images)\n",
    "\n",
    "\n",
    "def get_angles(df):\n",
    "    angles = []\n",
    "    max_angle = df['inc_angle'].max()\n",
    "    \n",
    "    for idx, row in df.iterrows():\n",
    "        angle = np.array(row['inc_angle'])\n",
    "        \n",
    "        # Pre-Processing:\n",
    "        #  - ...\n",
    "        \n",
    "        # angle /= max_angle\n",
    "        \n",
    "        angles.append(angle)\n",
    "        \n",
    "    return np.array(angles)\n",
    "\n",
    "\n",
    "def plot_acc(histobj):\n",
    "    plt.figure(figsize=(10,10))\n",
    "    plt.plot(histobj.history['acc'])\n",
    "    plt.plot(histobj.history['val_acc'])\n",
    "    plt.title('model accuracy')\n",
    "    plt.ylabel('accuracy')\n",
    "    plt.xlabel('epoch')\n",
    "    plt.legend(['train', 'val'], loc='upper left')\n",
    "    plt.show()\n",
    "    \n",
    "    \n",
    "def plot_loss(histobj):\n",
    "    plt.figure(figsize=(10,10))\n",
    "    plt.plot(histobj.history['loss'])\n",
    "    plt.plot(histobj.history['val_loss'])\n",
    "    plt.title('model loss')\n",
    "    plt.ylabel('loss')\n",
    "    plt.xlabel('epoch')\n",
    "    plt.legend(['train', 'val'], loc='upper left')\n",
    "    plt.show()\n",
    "      \n",
    "    \n",
    "def show_image(img):\n",
    "    fig = plt.figure(figsize=(12, 5))\n",
    "    ax = plt.subplot(1, 2, 1)\n",
    "    ax.imshow(img[:, :, 0], cmap=cm.inferno)\n",
    "    ax.set_title('Band 1')\n",
    "\n",
    "    ax = plt.subplot(1, 2, 2)\n",
    "    im = ax.imshow(img[:, :, 1], cmap=cm.inferno)\n",
    "    ax.set_title('Band 2')\n",
    "    \n",
    "    cax = fig.add_axes([0.95, 0.1, 0.03, 0.8])\n",
    "    fig.colorbar(im, cax=cax, label='[dB]')\n",
    "\n",
    "    plt.show()\n",
    "    \n",
    "    \n",
    "def get_class(pred, label, img):\n",
    "    classes = ['ship', 'iceberg']\n",
    "    pred_i = np.argmax(pred)\n",
    "    label_i = np.argmax(label)\n",
    "    print('Prediction class = {}'.format(classes[pred_i]))\n",
    "    print('Prediction value (%) = {}'.format(pred[pred_i]))\n",
    "    print('Label class = {}'.format(classes[label_i]))\n",
    "    show_image(img)"
   ]
  },
  {
   "cell_type": "markdown",
   "metadata": {},
   "source": [
    "# Import data\n"
   ]
  },
  {
   "cell_type": "code",
   "execution_count": null,
   "metadata": {},
   "outputs": [],
   "source": [
    "train_df = pd.read_json('C:/Saudin/Other/Iceberg_data/train.json', dtype='float32')\n",
    "test_df = pd.read_json('C:/Saudin/Other/Iceberg_data/test.json', dtype='float32')"
   ]
  },
  {
   "cell_type": "markdown",
   "metadata": {},
   "source": [
    "#### Drop 'na' values (133 of them) from the training set"
   ]
  },
  {
   "cell_type": "code",
   "execution_count": null,
   "metadata": {},
   "outputs": [],
   "source": [
    "train_df = train_df[train_df['inc_angle'] != 'na']"
   ]
  },
  {
   "cell_type": "markdown",
   "metadata": {},
   "source": [
    "#### Randomize pandas dataframe (all input features)"
   ]
  },
  {
   "cell_type": "code",
   "execution_count": null,
   "metadata": {},
   "outputs": [],
   "source": [
    "state = 100\n",
    "train_ran_df = train_df.sample(frac=1, random_state=state)\n",
    "train_ran_df = train_ran_df.reset_index(drop=True)"
   ]
  },
  {
   "cell_type": "code",
   "execution_count": null,
   "metadata": {},
   "outputs": [],
   "source": [
    "X_cnn = get_images(train_ran_df)\n",
    "X_ang = get_angles(train_ran_df)\n",
    "Y = to_categorical(train_ran_df.is_iceberg.values, num_classes=2) # [0. 1.]=iceberg, [1. 0.]=ship\n",
    "X_cnn_test = get_images(test_df)\n",
    "X_ang_test = get_angles(test_df)\n",
    "X_ids = test_df['id']"
   ]
  },
  {
   "cell_type": "code",
   "execution_count": null,
   "metadata": {},
   "outputs": [],
   "source": [
    "train_samples = np.round(0.8*len(X_cnn))\n",
    "train_samples = train_samples.astype('int')\n",
    "X_cnn_train = X_cnn[0:train_samples]\n",
    "X_ang_train = X_ang[0:train_samples]\n",
    "Y_train = Y[0:train_samples]\n",
    "X_cnn_val = X_cnn[train_samples+1:-1]\n",
    "X_ang_val = X_ang[train_samples+1:-1]\n",
    "Y_val = Y[train_samples+1:-1]"
   ]
  },
  {
   "cell_type": "markdown",
   "metadata": {},
   "source": [
    "# CNN/FNN Model Configuration"
   ]
  },
  {
   "cell_type": "code",
   "execution_count": 5,
   "metadata": {},
   "outputs": [
    {
     "name": "stdout",
     "output_type": "stream",
     "text": [
      "__________________________________________________________________________________________________\n",
      "Layer (type)                    Output Shape         Param #     Connected to                     \n",
      "==================================================================================================\n",
      "CNN-Input (InputLayer)          (None, 75, 75, 2)    0                                            \n",
      "__________________________________________________________________________________________________\n",
      "conv2d_1 (Conv2D)               (None, 71, 71, 64)   3264        CNN-Input[0][0]                  \n",
      "__________________________________________________________________________________________________\n",
      "dropout_1 (Dropout)             (None, 71, 71, 64)   0           conv2d_1[0][0]                   \n",
      "__________________________________________________________________________________________________\n",
      "max_pooling2d_1 (MaxPooling2D)  (None, 35, 35, 64)   0           dropout_1[0][0]                  \n",
      "__________________________________________________________________________________________________\n",
      "conv2d_2 (Conv2D)               (None, 31, 31, 32)   51232       max_pooling2d_1[0][0]            \n",
      "__________________________________________________________________________________________________\n",
      "max_pooling2d_2 (MaxPooling2D)  (None, 15, 15, 32)   0           conv2d_2[0][0]                   \n",
      "__________________________________________________________________________________________________\n",
      "conv2d_3 (Conv2D)               (None, 13, 13, 32)   9248        max_pooling2d_2[0][0]            \n",
      "__________________________________________________________________________________________________\n",
      "max_pooling2d_3 (MaxPooling2D)  (None, 6, 6, 32)     0           conv2d_3[0][0]                   \n",
      "__________________________________________________________________________________________________\n",
      "flatten_1 (Flatten)             (None, 1152)         0           max_pooling2d_3[0][0]            \n",
      "__________________________________________________________________________________________________\n",
      "dense_1 (Dense)                 (None, 127)          146431      flatten_1[0][0]                  \n",
      "__________________________________________________________________________________________________\n",
      "Angle-Input (InputLayer)        (None, 1)            0                                            \n",
      "__________________________________________________________________________________________________\n",
      "Merge-Layer (Concatenate)       (None, 128)          0           dense_1[0][0]                    \n",
      "                                                                 Angle-Input[0][0]                \n",
      "__________________________________________________________________________________________________\n",
      "dense_2 (Dense)                 (None, 32)           4128        Merge-Layer[0][0]                \n",
      "__________________________________________________________________________________________________\n",
      "Model-Output (Dense)            (None, 2)            66          dense_2[0][0]                    \n",
      "==================================================================================================\n",
      "Total params: 214,369\n",
      "Trainable params: 214,369\n",
      "Non-trainable params: 0\n",
      "__________________________________________________________________________________________________\n"
     ]
    }
   ],
   "source": [
    "input1 = Input(shape=(75,75,2), name='CNN-Input')\n",
    "\n",
    "x1 = Conv2D(filters=64, kernel_size=(5,5), activation='relu')(input1)\n",
    "x1 = Dropout(0.2)(x1)\n",
    "x1 = MaxPooling2D(pool_size=(2,2))(x1)\n",
    "x1 = Conv2D(filters=32, kernel_size=(5,5), activation='relu')(x1)\n",
    "x1 = MaxPooling2D(pool_size=(2,2))(x1)\n",
    "x1 = Conv2D(filters=32, kernel_size=(3,3), activation='relu')(x1)\n",
    "x1 = MaxPooling2D(pool_size=(2,2))(x1)\n",
    "x1 = Flatten()(x1)\n",
    "x1 = Dense(127, activation='relu')(x1)\n",
    "\n",
    "input2 = Input(shape=(1,), name='Angle-Input')\n",
    "\n",
    "x2 = concatenate([x1, input2], axis=1, name='Merge-Layer')\n",
    "x2 = Dense(32, activation='relu')(x2)\n",
    "\n",
    "predictions = Dense(2, activation='softmax', name='Model-Output')(x2)\n",
    "\n",
    "model = Model(inputs=[input1, input2], outputs=predictions)\n",
    "model.summary()"
   ]
  },
  {
   "cell_type": "code",
   "execution_count": null,
   "metadata": {},
   "outputs": [],
   "source": [
    "model.compile(optimizer='adam', loss = 'binary_crossentropy', metrics = ['accuracy'])"
   ]
  },
  {
   "cell_type": "code",
   "execution_count": null,
   "metadata": {},
   "outputs": [],
   "source": [
    "model_hist = model.fit([X_cnn_train, X_ang_train], Y_train, validation_data=([X_cnn_val, X_ang_val], Y_val), batch_size=32, epochs=50)"
   ]
  },
  {
   "cell_type": "code",
   "execution_count": null,
   "metadata": {},
   "outputs": [],
   "source": [
    "plot_loss(model_hist)"
   ]
  },
  {
   "cell_type": "code",
   "execution_count": null,
   "metadata": {},
   "outputs": [],
   "source": [
    "plot_acc(model_hist)"
   ]
  },
  {
   "cell_type": "code",
   "execution_count": null,
   "metadata": {},
   "outputs": [],
   "source": [
    "test_preds = model.predict([X_cnn_test, X_ang_test], batch_size=32)"
   ]
  },
  {
   "cell_type": "code",
   "execution_count": null,
   "metadata": {},
   "outputs": [],
   "source": [
    "sample = 30\n",
    "get_class(val_preds[sample], val_Y[sample], val_X[sample])"
   ]
  },
  {
   "cell_type": "code",
   "execution_count": null,
   "metadata": {},
   "outputs": [],
   "source": [
    "is_ice = test_preds[:, 1]\n",
    "ids = TEST_labels"
   ]
  },
  {
   "cell_type": "code",
   "execution_count": null,
   "metadata": {},
   "outputs": [],
   "source": [
    "with open('subv3.csv', 'w') as fp:\n",
    "    fp.write('id,is_iceberg\\n')\n",
    "    for i in range(len(X_ids)):\n",
    "        fp.write('{0:},{1:.10f}\\n'.format(X_ids[i], test_preds[i,1]))"
   ]
  }
 ],
 "metadata": {
  "kernelspec": {
   "display_name": "Python 3",
   "language": "python",
   "name": "python3"
  },
  "language_info": {
   "codemirror_mode": {
    "name": "ipython",
    "version": 3
   },
   "file_extension": ".py",
   "mimetype": "text/x-python",
   "name": "python",
   "nbconvert_exporter": "python",
   "pygments_lexer": "ipython3",
   "version": "3.6.2"
  }
 },
 "nbformat": 4,
 "nbformat_minor": 2
}
