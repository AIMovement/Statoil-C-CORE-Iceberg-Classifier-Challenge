{
 "cells": [
  {
   "cell_type": "markdown",
   "metadata": {},
   "source": [
    "# Import packages"
   ]
  },
  {
   "cell_type": "code",
   "execution_count": 1,
   "metadata": {},
   "outputs": [],
   "source": [
    "import pandas as pd\n",
    "import numpy as np\n",
    "import matplotlib.pyplot as plt\n",
    "import matplotlib.cm as cm\n",
    "import seaborn as sns\n",
    "import json\n",
    "%matplotlib inline"
   ]
  },
  {
   "cell_type": "code",
   "execution_count": 2,
   "metadata": {},
   "outputs": [],
   "source": [
    "from sklearn.model_selection import train_test_split"
   ]
  },
  {
   "cell_type": "code",
   "execution_count": 3,
   "metadata": {},
   "outputs": [
    {
     "name": "stderr",
     "output_type": "stream",
     "text": [
      "Using TensorFlow backend.\n"
     ]
    }
   ],
   "source": [
    "from keras.models import Model, load_model\n",
    "from keras.layers import Dense, Dropout, Flatten, Conv2D, MaxPooling2D, Activation, concatenate, Input\n",
    "from keras.optimizers import SGD\n",
    "from keras.utils.np_utils import to_categorical"
   ]
  },
  {
   "cell_type": "markdown",
   "metadata": {},
   "source": [
    "# Functions"
   ]
  },
  {
   "cell_type": "code",
   "execution_count": 4,
   "metadata": {},
   "outputs": [],
   "source": [
    "def get_images(df):\n",
    "    images = []\n",
    "    \n",
    "    for idx, row in df.iterrows():\n",
    "        band_1 = np.array(row['band_1']).reshape(75, 75)\n",
    "        band_2 = np.array(row['band_2']).reshape(75, 75)\n",
    "\n",
    "        # Pre-Processing:\n",
    "        #  - (Re)scaling\n",
    "        #  - Standardization\n",
    "        #  - Stretching\n",
    "        #  - ...\n",
    "        band_1 /= 255\n",
    "        band_2 /= 255\n",
    "        \n",
    "\n",
    "        bands = np.dstack((band_1, band_2))\n",
    "        images.append(bands)\n",
    "        \n",
    "    return np.array(images)\n",
    "\n",
    "\n",
    "def get_angles(df):\n",
    "    angles = []\n",
    "    max_angle = df['inc_angle'].max()\n",
    "    \n",
    "    for idx, row in df.iterrows():\n",
    "        angle = np.array(row['inc_angle'])\n",
    "        \n",
    "        # Pre-Processing:\n",
    "        #  - ...\n",
    "        \n",
    "        #angle /= max_angle\n",
    "        \n",
    "        angles.append(angle)\n",
    "        \n",
    "    return np.array(angles)\n",
    "\n",
    "\n",
    "def plot_acc(histobj):\n",
    "    plt.figure(figsize=(10,10))\n",
    "    plt.plot(histobj.history['acc'])\n",
    "    plt.plot(histobj.history['val_acc'])\n",
    "    plt.title('model accuracy')\n",
    "    plt.ylabel('accuracy')\n",
    "    plt.xlabel('epoch')\n",
    "    plt.legend(['train', 'val'], loc='upper left')\n",
    "    plt.show()\n",
    "    \n",
    "    \n",
    "def plot_loss(histobj):\n",
    "    plt.figure(figsize=(10,10))\n",
    "    plt.plot(histobj.history['loss'])\n",
    "    plt.plot(histobj.history['val_loss'])\n",
    "    plt.title('model loss')\n",
    "    plt.ylabel('loss')\n",
    "    plt.xlabel('epoch')\n",
    "    plt.legend(['train', 'val'], loc='upper left')\n",
    "    plt.show()\n",
    "      \n",
    "    \n",
    "def show_image(img):\n",
    "    fig = plt.figure(figsize=(12, 5))\n",
    "    ax = plt.subplot(1, 2, 1)\n",
    "    ax.imshow(img[:, :, 0], cmap=cm.inferno)\n",
    "    ax.set_title('Band 1')\n",
    "\n",
    "    ax = plt.subplot(1, 2, 2)\n",
    "    im = ax.imshow(img[:, :, 1], cmap=cm.inferno)\n",
    "    ax.set_title('Band 2')\n",
    "    \n",
    "    cax = fig.add_axes([0.95, 0.1, 0.03, 0.8])\n",
    "    fig.colorbar(im, cax=cax, label='[dB]')\n",
    "\n",
    "    plt.show()\n",
    "    \n",
    "    \n",
    "def get_class(pred, label, img):\n",
    "    classes = ['ship', 'iceberg']\n",
    "    pred_i = np.argmax(pred)\n",
    "    label_i = np.argmax(label)\n",
    "    print('Prediction class = {}'.format(classes[pred_i]))\n",
    "    print('Prediction value (%) = {}'.format(pred[pred_i]))\n",
    "    print('Label class = {}'.format(classes[label_i]))\n",
    "    show_image(img)"
   ]
  },
  {
   "cell_type": "markdown",
   "metadata": {},
   "source": [
    "# Import data\n"
   ]
  },
  {
   "cell_type": "code",
   "execution_count": 5,
   "metadata": {},
   "outputs": [],
   "source": [
    "train_df = pd.read_json('C:/Saudin/Other/Iceberg_data/train.json', dtype='float32')\n",
    "test_df = pd.read_json('C:/Saudin/Other/Iceberg_data/test.json', dtype='float32')"
   ]
  },
  {
   "cell_type": "markdown",
   "metadata": {},
   "source": [
    "#### Drop 'na' values (133 of them) from the training set"
   ]
  },
  {
   "cell_type": "code",
   "execution_count": 6,
   "metadata": {},
   "outputs": [],
   "source": [
    "train_df = train_df[train_df['inc_angle'] != 'na']"
   ]
  },
  {
   "cell_type": "markdown",
   "metadata": {},
   "source": [
    "#### Randomize pandas dataframe (all input features)"
   ]
  },
  {
   "cell_type": "code",
   "execution_count": 7,
   "metadata": {},
   "outputs": [],
   "source": [
    "state = 100\n",
    "train_ran_df = train_df.sample(frac=1, random_state=state)\n",
    "train_ran_df = train_ran_df.reset_index(drop=True)"
   ]
  },
  {
   "cell_type": "code",
   "execution_count": 8,
   "metadata": {},
   "outputs": [],
   "source": [
    "X_cnn = get_images(train_ran_df)\n",
    "X_ang = get_angles(train_ran_df)\n",
    "Y = to_categorical(train_ran_df.is_iceberg.values, num_classes=2) # [0. 1.]=iceberg, [1. 0.]=ship\n",
    "X_cnn_test = get_images(test_df)\n",
    "X_ang_test = get_angles(test_df)\n",
    "X_ids = test_df['id']"
   ]
  },
  {
   "cell_type": "code",
   "execution_count": 9,
   "metadata": {},
   "outputs": [],
   "source": [
    "train_samples = np.round(0.8*len(X_cnn))\n",
    "train_samples = train_samples.astype('int')\n",
    "X_cnn_train = X_cnn[0:train_samples]\n",
    "X_ang_train = X_ang[0:train_samples]\n",
    "Y_train = Y[0:train_samples]\n",
    "X_cnn_val = X_cnn[train_samples+1:-1]\n",
    "X_ang_val = X_ang[train_samples+1:-1]\n",
    "Y_val = Y[train_samples+1:-1]"
   ]
  },
  {
   "cell_type": "markdown",
   "metadata": {},
   "source": [
    "# CNN/FNN Model Configuration"
   ]
  },
  {
   "cell_type": "code",
   "execution_count": 10,
   "metadata": {},
   "outputs": [
    {
     "name": "stdout",
     "output_type": "stream",
     "text": [
      "__________________________________________________________________________________________________\n",
      "Layer (type)                    Output Shape         Param #     Connected to                     \n",
      "==================================================================================================\n",
      "CNN-Input (InputLayer)          (None, 75, 75, 2)    0                                            \n",
      "__________________________________________________________________________________________________\n",
      "conv2d_1 (Conv2D)               (None, 71, 71, 64)   3264        CNN-Input[0][0]                  \n",
      "__________________________________________________________________________________________________\n",
      "dropout_1 (Dropout)             (None, 71, 71, 64)   0           conv2d_1[0][0]                   \n",
      "__________________________________________________________________________________________________\n",
      "max_pooling2d_1 (MaxPooling2D)  (None, 35, 35, 64)   0           dropout_1[0][0]                  \n",
      "__________________________________________________________________________________________________\n",
      "conv2d_2 (Conv2D)               (None, 31, 31, 32)   51232       max_pooling2d_1[0][0]            \n",
      "__________________________________________________________________________________________________\n",
      "max_pooling2d_2 (MaxPooling2D)  (None, 15, 15, 32)   0           conv2d_2[0][0]                   \n",
      "__________________________________________________________________________________________________\n",
      "conv2d_3 (Conv2D)               (None, 13, 13, 32)   9248        max_pooling2d_2[0][0]            \n",
      "__________________________________________________________________________________________________\n",
      "max_pooling2d_3 (MaxPooling2D)  (None, 6, 6, 32)     0           conv2d_3[0][0]                   \n",
      "__________________________________________________________________________________________________\n",
      "flatten_1 (Flatten)             (None, 1152)         0           max_pooling2d_3[0][0]            \n",
      "__________________________________________________________________________________________________\n",
      "dense_1 (Dense)                 (None, 127)          146431      flatten_1[0][0]                  \n",
      "__________________________________________________________________________________________________\n",
      "Angle-Input (InputLayer)        (None, 1)            0                                            \n",
      "__________________________________________________________________________________________________\n",
      "Merge-Layer (Concatenate)       (None, 128)          0           dense_1[0][0]                    \n",
      "                                                                 Angle-Input[0][0]                \n",
      "__________________________________________________________________________________________________\n",
      "dense_2 (Dense)                 (None, 32)           4128        Merge-Layer[0][0]                \n",
      "__________________________________________________________________________________________________\n",
      "Model-Output (Dense)            (None, 2)            66          dense_2[0][0]                    \n",
      "==================================================================================================\n",
      "Total params: 214,369\n",
      "Trainable params: 214,369\n",
      "Non-trainable params: 0\n",
      "__________________________________________________________________________________________________\n"
     ]
    }
   ],
   "source": [
    "input1 = Input(shape=(75,75,2), name='CNN-Input')\n",
    "\n",
    "x1 = Conv2D(filters=64, kernel_size=(5,5), activation='relu')(input1)\n",
    "x1 = Dropout(0.2)(x1)\n",
    "x1 = MaxPooling2D(pool_size=(2,2))(x1)\n",
    "x1 = Conv2D(filters=32, kernel_size=(5,5), activation='relu')(x1)\n",
    "x1 = MaxPooling2D(pool_size=(2,2))(x1)\n",
    "x1 = Conv2D(filters=32, kernel_size=(3,3), activation='relu')(x1)\n",
    "x1 = MaxPooling2D(pool_size=(2,2))(x1)\n",
    "x1 = Flatten()(x1)\n",
    "x1 = Dense(127, activation='relu')(x1)\n",
    "\n",
    "input2 = Input(shape=(1,), name='Angle-Input')\n",
    "\n",
    "x2 = concatenate([x1, input2], axis=1, name='Merge-Layer')\n",
    "x2 = Dense(32, activation='relu')(x2)\n",
    "\n",
    "predictions = Dense(2, activation='softmax', name='Model-Output')(x2)\n",
    "\n",
    "model = Model(inputs=[input1, input2], outputs=predictions)\n",
    "model.summary()"
   ]
  },
  {
   "cell_type": "code",
   "execution_count": 11,
   "metadata": {},
   "outputs": [],
   "source": [
    "model.compile(optimizer='adam', loss = 'binary_crossentropy', metrics = ['accuracy'])"
   ]
  },
  {
   "cell_type": "code",
   "execution_count": 12,
   "metadata": {},
   "outputs": [
    {
     "name": "stdout",
     "output_type": "stream",
     "text": [
      "Train on 1177 samples, validate on 292 samples\n",
      "Epoch 1/50\n",
      "1177/1177 [==============================] - 19s 16ms/step - loss: 1.2481 - acc: 0.5166 - val_loss: 0.6631 - val_acc: 0.6301\n",
      "Epoch 2/50\n",
      "1177/1177 [==============================] - 18s 15ms/step - loss: 0.5907 - acc: 0.6534 - val_loss: 0.6802 - val_acc: 0.6507\n",
      "Epoch 3/50\n",
      "1177/1177 [==============================] - 18s 15ms/step - loss: 0.5544 - acc: 0.7094 - val_loss: 0.5458 - val_acc: 0.7089\n",
      "Epoch 4/50\n",
      "1177/1177 [==============================] - 19s 16ms/step - loss: 0.5171 - acc: 0.7332 - val_loss: 0.5301 - val_acc: 0.7192\n",
      "Epoch 5/50\n",
      "1177/1177 [==============================] - 18s 15ms/step - loss: 0.4923 - acc: 0.7613 - val_loss: 0.4980 - val_acc: 0.7363\n",
      "Epoch 6/50\n",
      "1177/1177 [==============================] - 17s 15ms/step - loss: 0.4364 - acc: 0.7893 - val_loss: 0.4410 - val_acc: 0.7774\n",
      "Epoch 7/50\n",
      "1177/1177 [==============================] - 18s 15ms/step - loss: 0.3859 - acc: 0.8335 - val_loss: 0.3393 - val_acc: 0.8630\n",
      "Epoch 8/50\n",
      "1177/1177 [==============================] - 18s 15ms/step - loss: 0.4282 - acc: 0.8105 - val_loss: 0.4410 - val_acc: 0.7945\n",
      "Epoch 9/50\n",
      "1177/1177 [==============================] - 18s 15ms/step - loss: 0.3716 - acc: 0.8199 - val_loss: 0.2978 - val_acc: 0.8870\n",
      "Epoch 10/50\n",
      "1177/1177 [==============================] - 17s 15ms/step - loss: 0.3314 - acc: 0.8479 - val_loss: 0.3325 - val_acc: 0.8390\n",
      "Epoch 11/50\n",
      "1177/1177 [==============================] - 18s 15ms/step - loss: 0.3271 - acc: 0.8547 - val_loss: 0.3340 - val_acc: 0.8493\n",
      "Epoch 12/50\n",
      "1177/1177 [==============================] - 18s 16ms/step - loss: 0.3056 - acc: 0.8658 - val_loss: 0.3112 - val_acc: 0.8630\n",
      "Epoch 13/50\n",
      "1177/1177 [==============================] - 18s 15ms/step - loss: 0.2958 - acc: 0.8624 - val_loss: 0.3259 - val_acc: 0.8425\n",
      "Epoch 14/50\n",
      "1177/1177 [==============================] - 18s 15ms/step - loss: 0.3029 - acc: 0.8641 - val_loss: 0.3634 - val_acc: 0.8219\n",
      "Epoch 15/50\n",
      "1177/1177 [==============================] - 18s 15ms/step - loss: 0.2897 - acc: 0.8760 - val_loss: 0.3277 - val_acc: 0.8493\n",
      "Epoch 16/50\n",
      "1177/1177 [==============================] - 18s 15ms/step - loss: 0.3477 - acc: 0.8394 - val_loss: 0.3257 - val_acc: 0.8356\n",
      "Epoch 17/50\n",
      "1177/1177 [==============================] - 18s 15ms/step - loss: 0.2946 - acc: 0.8760 - val_loss: 0.4079 - val_acc: 0.7979\n",
      "Epoch 18/50\n",
      "1177/1177 [==============================] - 19s 16ms/step - loss: 0.2737 - acc: 0.8946 - val_loss: 0.2962 - val_acc: 0.8664\n",
      "Epoch 19/50\n",
      "1177/1177 [==============================] - 18s 16ms/step - loss: 0.2592 - acc: 0.8972 - val_loss: 0.3140 - val_acc: 0.8527\n",
      "Epoch 20/50\n",
      "1177/1177 [==============================] - 18s 15ms/step - loss: 0.2506 - acc: 0.8972 - val_loss: 0.2879 - val_acc: 0.8733\n",
      "Epoch 21/50\n",
      "1177/1177 [==============================] - 18s 15ms/step - loss: 0.2760 - acc: 0.8828 - val_loss: 0.3088 - val_acc: 0.8459\n",
      "Epoch 22/50\n",
      "1177/1177 [==============================] - 18s 15ms/step - loss: 0.2581 - acc: 0.8938 - val_loss: 0.3366 - val_acc: 0.8322\n",
      "Epoch 23/50\n",
      "1177/1177 [==============================] - 18s 15ms/step - loss: 0.2327 - acc: 0.9040 - val_loss: 0.2763 - val_acc: 0.8870\n",
      "Epoch 24/50\n",
      "1177/1177 [==============================] - 18s 15ms/step - loss: 0.2296 - acc: 0.9099 - val_loss: 0.3200 - val_acc: 0.8356\n",
      "Epoch 25/50\n",
      "1177/1177 [==============================] - 19s 16ms/step - loss: 0.2198 - acc: 0.9176 - val_loss: 0.2527 - val_acc: 0.8904\n",
      "Epoch 26/50\n",
      "1177/1177 [==============================] - 19s 16ms/step - loss: 0.2134 - acc: 0.9133 - val_loss: 0.2723 - val_acc: 0.8767\n",
      "Epoch 27/50\n",
      "1177/1177 [==============================] - 18s 15ms/step - loss: 0.2215 - acc: 0.9150 - val_loss: 0.2893 - val_acc: 0.8664\n",
      "Epoch 28/50\n",
      "1177/1177 [==============================] - 18s 15ms/step - loss: 0.2234 - acc: 0.8989 - val_loss: 0.3175 - val_acc: 0.8733\n",
      "Epoch 29/50\n",
      "1177/1177 [==============================] - 18s 15ms/step - loss: 0.2200 - acc: 0.9176 - val_loss: 0.2627 - val_acc: 0.8767\n",
      "Epoch 30/50\n",
      "1177/1177 [==============================] - 18s 15ms/step - loss: 0.2140 - acc: 0.9057 - val_loss: 0.2613 - val_acc: 0.8938\n",
      "Epoch 31/50\n",
      "1177/1177 [==============================] - 18s 16ms/step - loss: 0.1929 - acc: 0.9269 - val_loss: 0.2620 - val_acc: 0.8801\n",
      "Epoch 32/50\n",
      "1177/1177 [==============================] - 17s 15ms/step - loss: 0.1877 - acc: 0.9227 - val_loss: 0.2495 - val_acc: 0.8904\n",
      "Epoch 33/50\n",
      "1177/1177 [==============================] - 18s 15ms/step - loss: 0.1921 - acc: 0.9184 - val_loss: 0.3189 - val_acc: 0.8527\n",
      "Epoch 34/50\n",
      "1177/1177 [==============================] - 18s 15ms/step - loss: 0.1775 - acc: 0.9286 - val_loss: 0.2499 - val_acc: 0.8938\n",
      "Epoch 35/50\n",
      "1177/1177 [==============================] - 18s 15ms/step - loss: 0.1883 - acc: 0.9261 - val_loss: 0.2995 - val_acc: 0.8664\n",
      "Epoch 36/50\n",
      "1177/1177 [==============================] - 18s 16ms/step - loss: 0.1710 - acc: 0.9371 - val_loss: 0.3135 - val_acc: 0.8699\n",
      "Epoch 37/50\n",
      "1177/1177 [==============================] - 18s 15ms/step - loss: 0.1780 - acc: 0.9303 - val_loss: 0.3175 - val_acc: 0.8562\n",
      "Epoch 38/50\n",
      "1177/1177 [==============================] - 18s 16ms/step - loss: 0.1706 - acc: 0.9295 - val_loss: 0.2669 - val_acc: 0.8801\n",
      "Epoch 39/50\n",
      "1177/1177 [==============================] - 18s 16ms/step - loss: 0.1592 - acc: 0.9397 - val_loss: 0.2536 - val_acc: 0.8870\n",
      "Epoch 40/50\n",
      "1177/1177 [==============================] - 18s 15ms/step - loss: 0.1525 - acc: 0.9473 - val_loss: 0.3129 - val_acc: 0.8527\n",
      "Epoch 41/50\n",
      "1177/1177 [==============================] - 19s 16ms/step - loss: 0.1598 - acc: 0.9329 - val_loss: 0.2922 - val_acc: 0.8664\n",
      "Epoch 42/50\n",
      "1177/1177 [==============================] - 18s 16ms/step - loss: 0.1595 - acc: 0.9320 - val_loss: 0.2588 - val_acc: 0.8733\n",
      "Epoch 43/50\n",
      "1177/1177 [==============================] - 18s 15ms/step - loss: 0.1359 - acc: 0.9431 - val_loss: 0.3043 - val_acc: 0.8562\n",
      "Epoch 44/50\n",
      "1177/1177 [==============================] - 18s 16ms/step - loss: 0.1270 - acc: 0.9507 - val_loss: 0.2709 - val_acc: 0.8870\n",
      "Epoch 45/50\n",
      "1177/1177 [==============================] - 18s 15ms/step - loss: 0.1465 - acc: 0.9414 - val_loss: 0.3009 - val_acc: 0.8664\n",
      "Epoch 46/50\n",
      "1177/1177 [==============================] - 19s 16ms/step - loss: 0.1215 - acc: 0.9567 - val_loss: 0.3004 - val_acc: 0.8801\n",
      "Epoch 47/50\n",
      "1177/1177 [==============================] - 18s 15ms/step - loss: 0.1459 - acc: 0.9414 - val_loss: 0.2961 - val_acc: 0.8596\n",
      "Epoch 48/50\n",
      "1177/1177 [==============================] - 19s 16ms/step - loss: 0.1309 - acc: 0.9448 - val_loss: 0.3123 - val_acc: 0.8562\n",
      "Epoch 49/50\n",
      "1177/1177 [==============================] - 19s 17ms/step - loss: 0.1157 - acc: 0.9507 - val_loss: 0.2719 - val_acc: 0.8801\n",
      "Epoch 50/50\n",
      "1177/1177 [==============================] - 18s 15ms/step - loss: 0.0972 - acc: 0.9626 - val_loss: 0.3035 - val_acc: 0.8664\n"
     ]
    }
   ],
   "source": [
    "model_hist = model.fit([X_cnn_train, X_ang_train], Y_train, validation_data=([X_cnn_val, X_ang_val], Y_val), batch_size=32, epochs=50)"
   ]
  },
  {
   "cell_type": "code",
   "execution_count": 13,
   "metadata": {},
   "outputs": [
    {
     "data": {
      "image/png": "[encoded data removed]",
      "text/plain": [
       "<matplotlib.figure.Figure at 0x217933f28>"
      ]
     },
     "metadata": {},
     "output_type": "display_data"
    }
   ],
   "source": [
    "plot_loss(model_hist)"
   ]
  },
  {
   "cell_type": "code",
   "execution_count": 14,
   "metadata": {},
   "outputs": [
    {
     "data": {
      "image/png": "[encoded data removed]",
      "text/plain": [
       "<matplotlib.figure.Figure at 0x6ec3d550>"
      ]
     },
     "metadata": {},
     "output_type": "display_data"
    }
   ],
   "source": [
    "plot_acc(model_hist)"
   ]
  },
  {
   "cell_type": "code",
   "execution_count": null,
   "metadata": {},
   "outputs": [],
   "source": [
    "test_preds = model.predict([X_cnn_test, X_ang_test], batch_size=32)"
   ]
  },
  {
   "cell_type": "code",
   "execution_count": null,
   "metadata": {},
   "outputs": [],
   "source": [
    "sample = 30\n",
    "get_class(val_preds[sample], val_Y[sample], val_X[sample])"
   ]
  },
  {
   "cell_type": "code",
   "execution_count": null,
   "metadata": {},
   "outputs": [],
   "source": [
    "is_ice = test_preds[:, 1]\n",
    "ids = TEST_labels"
   ]
  },
  {
   "cell_type": "code",
   "execution_count": null,
   "metadata": {},
   "outputs": [],
   "source": [
    "with open('subv3.csv', 'w') as fp:\n",
    "    fp.write('id,is_iceberg\\n')\n",
    "    for i in range(len(X_ids)):\n",
    "        fp.write('{0:},{1:.10f}\\n'.format(X_ids[i], test_preds[i,1]))"
   ]
  },
  {
   "cell_type": "code",
   "execution_count": null,
   "metadata": {},
   "outputs": [],
   "source": []
  }
 ],
 "metadata": {
  "kernelspec": {
   "display_name": "Python 3",
   "language": "python",
   "name": "python3"
  },
  "language_info": {
   "codemirror_mode": {
    "name": "ipython",
    "version": 3
   },
   "file_extension": ".py",
   "mimetype": "text/x-python",
   "name": "python",
   "nbconvert_exporter": "python",
   "pygments_lexer": "ipython3",
   "version": "3.6.2"
  }
 },
 "nbformat": 4,
 "nbformat_minor": 2
}
